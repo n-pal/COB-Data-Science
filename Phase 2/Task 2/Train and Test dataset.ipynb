{
 "cells": [
  {
   "cell_type": "code",
   "execution_count": 1,
   "id": "b3adfc77",
   "metadata": {},
   "outputs": [],
   "source": [
    "import numpy as np\n",
    "import pandas as pd\n",
    "import matplotlib.pyplot as plt\n",
    "from bs4 import BeautifulSoup\n",
    "import requests\n",
    "from sklearn import linear_model\n",
    "from sklearn.linear_model import LinearRegression\n",
    "from sklearn.model_selection import train_test_split\n",
    "from sklearn.metrics import r2_score"
   ]
  },
  {
   "cell_type": "code",
   "execution_count": 2,
   "id": "52a00041",
   "metadata": {},
   "outputs": [],
   "source": [
    "Train_url = \"https://docs.google.com/spreadsheets/d/e/2PACX-1vRTK2NvcndgPX41Czu6Ft2Ho_nE-z50BgTqdzwFW0rsJ2nvyNLe2DoIg1COzUbgw80oaRBjfy5-WtFk/pubhtml\""
   ]
  },
  {
   "cell_type": "code",
   "execution_count": 3,
   "id": "d3700a3c",
   "metadata": {},
   "outputs": [],
   "source": [
    "response = requests.get(Train_url)\n",
    "response.raise_for_status()\n",
    "soup = BeautifulSoup(response.text, \"html.parser\")\n",
    "s = soup.find('table', {'class':'waffle'})\n",
    "tr = s.find_all('tr')\n",
    "x = [0,0]\n",
    "y = []\n",
    "for i in tr:\n",
    "    x = i.find_all('td', {'class':'s1'})\n",
    "    if len(x)>1:\n",
    "        y.append({\n",
    "            'x':int(x[0].text.strip()),\n",
    "            'y':x[1].text.strip()\n",
    "        })"
   ]
  },
  {
   "cell_type": "code",
   "execution_count": 4,
   "id": "f0fc1bb3",
   "metadata": {},
   "outputs": [
    {
     "name": "stdout",
     "output_type": "stream",
     "text": [
      "saved to train.csv\n"
     ]
    }
   ],
   "source": [
    "df = pd.DataFrame(y)\n",
    "df['y'] = pd.to_numeric(df['y'])\n",
    "df.to_csv('Train.csv', index = False)\n",
    "print(\"saved to train.csv\")"
   ]
  },
  {
   "cell_type": "code",
   "execution_count": 5,
   "id": "3367e15e",
   "metadata": {},
   "outputs": [
    {
     "data": {
      "image/png": "[encoded data removed]",
      "text/plain": [
       "<Figure size 640x480 with 1 Axes>"
      ]
     },
     "metadata": {},
     "output_type": "display_data"
    }
   ],
   "source": [
    "plt.xlabel('X')\n",
    "plt.ylabel('Y')\n",
    "plt.scatter(df['x'], df['y'])\n",
    "plt.show()"
   ]
  },
  {
   "cell_type": "code",
   "execution_count": 6,
   "id": "344c10a3",
   "metadata": {},
   "outputs": [
    {
     "data": {
      "text/html": [
       "<div>\n",
       "<style scoped>\n",
       "    .dataframe tbody tr th:only-of-type {\n",
       "        vertical-align: middle;\n",
       "    }\n",
       "\n",
       "    .dataframe tbody tr th {\n",
       "        vertical-align: top;\n",
       "    }\n",
       "\n",
       "    .dataframe thead th {\n",
       "        text-align: right;\n",
       "    }\n",
       "</style>\n",
       "<table border=\"1\" class=\"dataframe\">\n",
       "  <thead>\n",
       "    <tr style=\"text-align: right;\">\n",
       "      <th></th>\n",
       "      <th>x</th>\n",
       "      <th>y</th>\n",
       "    </tr>\n",
       "  </thead>\n",
       "  <tbody>\n",
       "    <tr>\n",
       "      <th>0</th>\n",
       "      <td>24</td>\n",
       "      <td>21.549452</td>\n",
       "    </tr>\n",
       "    <tr>\n",
       "      <th>1</th>\n",
       "      <td>50</td>\n",
       "      <td>47.464463</td>\n",
       "    </tr>\n",
       "    <tr>\n",
       "      <th>2</th>\n",
       "      <td>15</td>\n",
       "      <td>17.218656</td>\n",
       "    </tr>\n",
       "    <tr>\n",
       "      <th>3</th>\n",
       "      <td>38</td>\n",
       "      <td>36.586398</td>\n",
       "    </tr>\n",
       "    <tr>\n",
       "      <th>4</th>\n",
       "      <td>87</td>\n",
       "      <td>87.288984</td>\n",
       "    </tr>\n",
       "  </tbody>\n",
       "</table>\n",
       "</div>"
      ],
      "text/plain": [
       "    x          y\n",
       "0  24  21.549452\n",
       "1  50  47.464463\n",
       "2  15  17.218656\n",
       "3  38  36.586398\n",
       "4  87  87.288984"
      ]
     },
     "execution_count": 6,
     "metadata": {},
     "output_type": "execute_result"
    }
   ],
   "source": [
    "data = pd.read_csv('Train.csv')\n",
    "data.head()"
   ]
  },
  {
   "cell_type": "code",
   "execution_count": 7,
   "id": "0efe7b00",
   "metadata": {},
   "outputs": [],
   "source": [
    "x_train = data[['x']]\n",
    "y_train = data['y']"
   ]
  },
  {
   "cell_type": "code",
   "execution_count": 8,
   "id": "2149af84",
   "metadata": {},
   "outputs": [
    {
     "data": {
      "text/html": [
       "<style>#sk-container-id-1 {color: black;background-color: white;}#sk-container-id-1 pre{padding: 0;}#sk-container-id-1 div.sk-toggleable {background-color: white;}#sk-container-id-1 label.sk-toggleable__label {cursor: pointer;display: block;width: 100%;margin-bottom: 0;padding: 0.3em;box-sizing: border-box;text-align: center;}#sk-container-id-1 label.sk-toggleable__label-arrow:before {content: \"▸\";float: left;margin-right: 0.25em;color: #696969;}#sk-container-id-1 label.sk-toggleable__label-arrow:hover:before {color: black;}#sk-container-id-1 div.sk-estimator:hover label.sk-toggleable__label-arrow:before {color: black;}#sk-container-id-1 div.sk-toggleable__content {max-height: 0;max-width: 0;overflow: hidden;text-align: left;background-color: #f0f8ff;}#sk-container-id-1 div.sk-toggleable__content pre {margin: 0.2em;color: black;border-radius: 0.25em;background-color: #f0f8ff;}#sk-container-id-1 input.sk-toggleable__control:checked~div.sk-toggleable__content {max-height: 200px;max-width: 100%;overflow: auto;}#sk-container-id-1 input.sk-toggleable__control:checked~label.sk-toggleable__label-arrow:before {content: \"▾\";}#sk-container-id-1 div.sk-estimator input.sk-toggleable__control:checked~label.sk-toggleable__label {background-color: #d4ebff;}#sk-container-id-1 div.sk-label input.sk-toggleable__control:checked~label.sk-toggleable__label {background-color: #d4ebff;}#sk-container-id-1 input.sk-hidden--visually {border: 0;clip: rect(1px 1px 1px 1px);clip: rect(1px, 1px, 1px, 1px);height: 1px;margin: -1px;overflow: hidden;padding: 0;position: absolute;width: 1px;}#sk-container-id-1 div.sk-estimator {font-family: monospace;background-color: #f0f8ff;border: 1px dotted black;border-radius: 0.25em;box-sizing: border-box;margin-bottom: 0.5em;}#sk-container-id-1 div.sk-estimator:hover {background-color: #d4ebff;}#sk-container-id-1 div.sk-parallel-item::after {content: \"\";width: 100%;border-bottom: 1px solid gray;flex-grow: 1;}#sk-container-id-1 div.sk-label:hover label.sk-toggleable__label {background-color: #d4ebff;}#sk-container-id-1 div.sk-serial::before {content: \"\";position: absolute;border-left: 1px solid gray;box-sizing: border-box;top: 0;bottom: 0;left: 50%;z-index: 0;}#sk-container-id-1 div.sk-serial {display: flex;flex-direction: column;align-items: center;background-color: white;padding-right: 0.2em;padding-left: 0.2em;position: relative;}#sk-container-id-1 div.sk-item {position: relative;z-index: 1;}#sk-container-id-1 div.sk-parallel {display: flex;align-items: stretch;justify-content: center;background-color: white;position: relative;}#sk-container-id-1 div.sk-item::before, #sk-container-id-1 div.sk-parallel-item::before {content: \"\";position: absolute;border-left: 1px solid gray;box-sizing: border-box;top: 0;bottom: 0;left: 50%;z-index: -1;}#sk-container-id-1 div.sk-parallel-item {display: flex;flex-direction: column;z-index: 1;position: relative;background-color: white;}#sk-container-id-1 div.sk-parallel-item:first-child::after {align-self: flex-end;width: 50%;}#sk-container-id-1 div.sk-parallel-item:last-child::after {align-self: flex-start;width: 50%;}#sk-container-id-1 div.sk-parallel-item:only-child::after {width: 0;}#sk-container-id-1 div.sk-dashed-wrapped {border: 1px dashed gray;margin: 0 0.4em 0.5em 0.4em;box-sizing: border-box;padding-bottom: 0.4em;background-color: white;}#sk-container-id-1 div.sk-label label {font-family: monospace;font-weight: bold;display: inline-block;line-height: 1.2em;}#sk-container-id-1 div.sk-label-container {text-align: center;}#sk-container-id-1 div.sk-container {/* jupyter's `normalize.less` sets `[hidden] { display: none; }` but bootstrap.min.css set `[hidden] { display: none !important; }` so we also need the `!important` here to be able to override the default hidden behavior on the sphinx rendered scikit-learn.org. See: https://github.com/scikit-learn/scikit-learn/issues/21755 */display: inline-block !important;position: relative;}#sk-container-id-1 div.sk-text-repr-fallback {display: none;}</style><div id=\"sk-container-id-1\" class=\"sk-top-container\"><div class=\"sk-text-repr-fallback\"><pre>LinearRegression()</pre><b>In a Jupyter environment, please rerun this cell to show the HTML representation or trust the notebook. <br />On GitHub, the HTML representation is unable to render, please try loading this page with nbviewer.org.</b></div><div class=\"sk-container\" hidden><div class=\"sk-item\"><div class=\"sk-estimator sk-toggleable\"><input class=\"sk-toggleable__control sk-hidden--visually\" id=\"sk-estimator-id-1\" type=\"checkbox\" checked><label for=\"sk-estimator-id-1\" class=\"sk-toggleable__label sk-toggleable__label-arrow\">LinearRegression</label><div class=\"sk-toggleable__content\"><pre>LinearRegression()</pre></div></div></div></div></div>"
      ],
      "text/plain": [
       "LinearRegression()"
      ]
     },
     "execution_count": 8,
     "metadata": {},
     "output_type": "execute_result"
    }
   ],
   "source": [
    "from sklearn import linear_model\n",
    "model = linear_model.LinearRegression()\n",
    "model.fit(x_train, y_train)"
   ]
  },
  {
   "cell_type": "code",
   "execution_count": 9,
   "id": "bb62efd4",
   "metadata": {},
   "outputs": [],
   "source": [
    "test_url = \"https://docs.google.com/spreadsheets/d/e/2PACX-1vRyvZ7lknwiSghK9aen1SaTEYoN3JS40rrGLpcyrsVZy1tB2T4gn6Y3-cdzPUFCPMmmqREWefW3kl4_/pubhtml\""
   ]
  },
  {
   "cell_type": "code",
   "execution_count": 10,
   "id": "de1e3a6a",
   "metadata": {},
   "outputs": [],
   "source": [
    "response = requests.get(test_url)\n",
    "response.raise_for_status()\n",
    "soup = BeautifulSoup(response.text, \"html.parser\")\n",
    "s = soup.find('table', {'class':'waffle'})\n",
    "tr = s.find_all('tr')\n",
    "x = [0,0]\n",
    "y = []\n",
    "for i in tr:\n",
    "    x = i.find_all('td', {'class':'s1'})\n",
    "    if len(x)>1:\n",
    "        y.append({\n",
    "            'x':int(x[0].text.strip()),\n",
    "            'y':x[1].text.strip()\n",
    "        })"
   ]
  },
  {
   "cell_type": "code",
   "execution_count": 11,
   "id": "bdeb2a70",
   "metadata": {},
   "outputs": [
    {
     "name": "stdout",
     "output_type": "stream",
     "text": [
      "saved to test.csv\n"
     ]
    }
   ],
   "source": [
    "df = pd.DataFrame(y)\n",
    "df['y'] = pd.to_numeric(df['y'])\n",
    "df.to_csv('Test.csv', index = False)\n",
    "print(\"saved to test.csv\")"
   ]
  },
  {
   "cell_type": "code",
   "execution_count": 12,
   "id": "2ed3e1b4",
   "metadata": {},
   "outputs": [],
   "source": [
    "x_test = data[['x']]\n",
    "y_test = data['y']"
   ]
  },
  {
   "cell_type": "code",
   "execution_count": 13,
   "id": "239cb5c1",
   "metadata": {},
   "outputs": [
    {
     "data": {
      "text/plain": [
       "array([23.9084877 , 49.92555363, 14.90258026, 37.91767705, 86.94983976,\n",
       "       35.91636428, 11.90061112, 80.94590147, 24.90914408,  4.89601644,\n",
       "       15.90323665, 15.90323665, 23.9084877 , 38.91833343, 53.92817916,\n",
       "       59.93211745, 25.90980046, 72.94065041, 28.91176961, 30.91308237,\n",
       "       67.9373685 , 86.94983976, 57.93080468, 53.92817916, 83.94787061,\n",
       "       57.93080468, 48.92489725, 19.90586217, 89.9518089 , 47.92424086,\n",
       "        3.89536006, 24.90914408, 41.92030257, -0.10726546, 59.93211745,\n",
       "       92.95377805, 38.91833343,  6.89732921, 20.90651855, 67.9373685 ,\n",
       "       83.94787061, -0.10726546, 57.93080468, 18.90520579, 35.91636428,\n",
       "       18.90520579, 58.93146107, 50.92621001, 18.90520579, 32.91439514,\n",
       "       84.94852699, 43.92161534,  4.89601644, 58.93146107, 13.90192388,\n",
       "        8.89864197, 74.94196317, 68.93802488,  9.89929835, 16.90389303,\n",
       "       57.93080468, 73.94130679, 20.90651855, 50.92621001, 18.90520579,\n",
       "       49.92555363, 23.9084877 , -0.10726546, 11.90061112, 74.94196317,\n",
       "       20.90651855, 63.93474297,  4.89601644, 57.93080468, 31.91373876,\n",
       "       40.91964619,  6.89732921,  3.89536006,  4.89601644, 48.92489725,\n",
       "       89.9518089 ,  2.89470368, 10.89995474, 31.91373876, 82.94721423,\n",
       "       24.90914408, 82.94721423, 25.90980046, 75.94261956, 94.95509081,\n",
       "       52.92752277, 76.94327594, 41.92030257, 24.90914408, 53.92817916,\n",
       "       54.92883554, -0.10726546, 72.94065041, 34.9157079 , 85.94918338,\n",
       "       89.9518089 , 12.9012675 , 45.9229281 , 45.9229281 , 31.91373876,\n",
       "        7.89798559, 70.93933765, 27.91111323, 23.9084877 , 55.92949192,\n",
       "       48.92489725, 78.9445887 , 89.9518089 , 88.95115252, 40.91964619,\n",
       "       26.91045685, 57.93080468, 25.90980046, 30.91308237, 69.93868127,\n",
       "       70.93933765, 38.91833343,  6.89732921, 47.92424086, 55.92949192,\n",
       "       44.92227172, 40.91964619,  2.89470368, 36.91702066, 23.9084877 ,\n",
       "       67.9373685 , 46.92358448, 26.91045685, 67.9373685 , 73.94130679,\n",
       "       94.95509081, 78.9445887 , 20.90651855, 94.95509081, 53.92817916,\n",
       "       55.92949192, 79.94524508, 25.90980046, 24.90914408,  7.89798559,\n",
       "       94.95509081, 93.95443443, 53.92817916,  6.89732921, 98.95771634,\n",
       "       35.91636428, 47.92424086, 64.93539936, 41.92030257, 92.95377805,\n",
       "       85.94918338, 25.90980046, 50.92621001, 99.95837272, 93.95443443,\n",
       "        5.89667283, 23.9084877 , 74.94196317,  6.89732921, 52.92752277,\n",
       "       72.94065041, 15.90323665, 79.94524508, 76.94327594, 88.95115252,\n",
       "       79.94524508, 54.92883554, 18.90520579, 55.92949192, 46.92358448,\n",
       "       55.92949192,  1.8940473 , 81.94655785, 56.9301483 , 43.92161534,\n",
       "       25.90980046, 51.92686639, 40.91964619, 43.92161534,  2.89470368,\n",
       "       30.91308237, 96.95640358, 20.90651855, 16.90389303,  6.89732921,\n",
       "       60.93277383,  9.89929835, 51.92686639,  9.89929835, 64.93539936,\n",
       "       70.93933765,  3.89536006, 23.9084877 , 25.90980046, 50.92621001,\n",
       "       41.92030257, 61.93343021, 73.94130679, 76.94327594,  2.89470368,\n",
       "       49.92555363, 23.9084877 , 36.91702066, 57.93080468, 51.92686639,\n",
       "       26.91045685, 13.90192388, 99.95837272, 71.93999403,  4.89601644,\n",
       "       70.93933765, 53.92817916, 83.94787061, 41.92030257, 53.92817916,\n",
       "       73.94130679, 53.92817916, 52.92752277, 77.94393232, 96.95640358,\n",
       "       48.92489725, 70.93933765, 47.92424086, 50.92621001, 88.95115252,\n",
       "       98.95771634, 92.95377805, 48.92489725, 17.90454941, 64.93539936,\n",
       "       82.94721423, 99.95837272, 40.91964619, 51.92686639, 28.91176961,\n",
       "       96.95640358,  6.89732921, 50.92621001, 57.93080468, 49.92555363,\n",
       "       66.93671212, 88.95115252, 75.94261956, 34.9157079 , 98.95771634,\n",
       "       30.91308237, 51.92686639, 10.89995474, 65.93605574, 49.92555363,\n",
       "       38.91833343, 59.93211745, 34.9157079 , 52.92752277, 13.90192388,\n",
       "       48.92489725, 15.90323665, 75.94261956, 12.9012675 , 50.92621001,\n",
       "       69.93868127, 97.95705996, 85.94918338, 99.95837272, 45.9229281 ,\n",
       "       50.92621001, 49.92555363, 90.95246528, 47.92424086, 80.94590147,\n",
       "       37.91767705, 39.91898981, 78.9445887 , 95.95574719, 59.93211745,\n",
       "       69.93868127, 43.92161534, 10.89995474,  5.89667283,  4.89601644,\n",
       "       71.93999403, 54.92883554, 94.95509081, 40.91964619, 24.90914408,\n",
       "        0.89339092, 54.92883554,  3.89536006, 47.92424086, 54.92883554,\n",
       "       74.94196317, 67.9373685 , 99.95837272, 24.90914408, 74.94196317,\n",
       "       33.91505152, 37.91767705, 91.95312167, 20.90651855, 87.95049614,\n",
       "       74.94196317, 75.94261956, 43.92161534,  9.89929835, 20.90651855,\n",
       "       15.90323665, 31.91373876, 12.9012675 , 25.90980046, 69.93868127,\n",
       "       76.94327594, 76.94327594, 87.95049614, 34.9157079 , 23.9084877 ,\n",
       "       16.90389303, 90.95246528, 31.91373876, 35.91636428, 88.95115252,\n",
       "       68.93802488, 29.91242599,  5.89667283, 21.90717494, 66.93671212,\n",
       "        8.89864197, 73.94130679, 49.92555363, 84.94852699,  2.89470368,\n",
       "       -0.10726546, 58.93146107, 61.93343021, 16.90389303, 89.9518089 ,\n",
       "       22.90783132, 18.90520579, 92.95377805, 13.90192388, 57.93080468,\n",
       "       86.94983976, 36.91702066, 19.90586217, 34.9157079 , 62.93408659,\n",
       "       55.92949192, 61.93343021, 97.95705996, 89.9518089 , 50.92621001,\n",
       "       92.95377805, 21.90717494, 37.91767705, 12.9012675 , 97.95705996,\n",
       "       98.95771634, 30.91308237, 93.95443443, 72.94065041, 36.91702066,\n",
       "       22.90783132, 10.89995474, 87.95049614, 46.92358448, 78.9445887 ,\n",
       "       90.95246528, 70.93933765,  9.89929835, 38.91833343, 91.95312167,\n",
       "       98.95771634, 27.91111323, 31.91373876, 31.91373876, 74.94196317,\n",
       "       98.95771634, 26.91045685, 63.93474297, 97.95705996, 37.91767705,\n",
       "       45.9229281 , 12.9012675 , 95.95574719,  8.89864197, 33.91505152,\n",
       "       48.92489725,  0.89339092, 49.92555363, 93.95443443, 26.91045685,\n",
       "       19.90586217, 11.90061112, 44.92227172, 90.95246528, 60.93277383,\n",
       "        9.89929835, 46.92358448, 32.91439514, 83.94787061, 23.9084877 ,\n",
       "       47.92424086, 47.92424086,  8.89864197, 92.95377805, 98.95771634,\n",
       "        7.89798559, 19.90586217, 37.91767705, 77.94393232, 80.94590147,\n",
       "       41.92030257, 94.95509081, 77.94393232, 43.92161534, 67.9373685 ,\n",
       "       86.94983976, 57.93080468, 51.92686639, 25.90980046, 74.94196317,\n",
       "       47.92424086, 70.93933765, 76.94327594, 33.91505152, 23.9084877 ,\n",
       "       69.93868127, 28.91176961, 75.94261956, 97.95705996, 27.91111323,\n",
       "       86.94983976,  8.89864197, 86.94983976, 32.91439514, 63.93474297,\n",
       "       16.90389303, 48.92489725, 94.95509081, 74.94196317, 88.95115252,\n",
       "       80.94590147, 24.90914408, 46.92358448, 49.92555363,  4.89601644,\n",
       "       67.9373685 , 83.94787061,  7.89798559, 40.91964619, 25.90980046,\n",
       "       88.95115252, 77.94393232, 33.91505152, 91.95312167, 26.91045685,\n",
       "       11.90061112,  1.8940473 , 21.90717494, -0.10726546, 25.90980046,\n",
       "       49.92555363, 83.94787061, 69.93868127, 65.93605574, 41.92030257,\n",
       "       18.90520579, 93.95443443, 70.93933765, 18.90520579, 15.90323665,\n",
       "       48.92489725, 28.91176961, 28.91176961, 85.94918338, 49.92555363,\n",
       "       85.94918338, 29.91242599, 22.90783132, 19.90586217, 15.90323665,\n",
       "       56.9301483 ,  7.89798559,  7.89798559, 61.93343021, 54.92883554,\n",
       "       29.91242599, 85.94918338, 61.93343021, 50.92621001, 60.93277383,\n",
       "       85.94918338, 60.93277383, 20.90651855, 80.94590147, 96.95640358,\n",
       "        4.89601644, 60.93277383, 46.92358448, 97.95705996, 29.91242599,\n",
       "       62.93408659, -0.10726546, 99.95837272, 17.90454941, 29.91242599,\n",
       "       97.95705996, 15.90323665, 21.90717494, 54.92883554, 42.92095896,\n",
       "       74.94196317, 90.95246528, 45.9229281 , 84.94852699, 54.92883554,\n",
       "       35.91636428, 48.92489725, 93.95443443, 42.92095896, 21.90717494,\n",
       "       36.91702066, 23.9084877 , 94.95509081, 60.93277383, 74.94196317,\n",
       "       67.9373685 , 57.93080468,  4.89601644, 52.92752277, 79.94524508,\n",
       "       82.94721423, 24.90914408, 33.91505152, 25.90980046, 89.9518089 ,\n",
       "       59.93211745, 48.92489725, 18.90520579, 91.95312167, 28.91176961,\n",
       "        7.89798559, 56.9301483 , 28.91176961, 18.90520579, 80.94590147,\n",
       "       49.92555363, 14.90258026, 69.93868127, 38.91833343, 42.92095896,\n",
       "       20.90651855, 97.95705996, 85.94918338, 15.90323665, 24.90914408,\n",
       "       30.91308237, 92.95377805, 66.93671212, 48.92489725, 24.90914408,\n",
       "       87.95049614, 53.92817916, 20.90651855,  7.89798559, 31.91373876,\n",
       "       34.9157079 , 66.93671212, 89.9518089 , 58.93146107, 14.90258026,\n",
       "       66.93671212, 41.92030257, 43.92161534, 76.94327594, 67.9373685 ,\n",
       "       35.91636428, 10.89995474,  9.89929835, 64.93539936, 97.95705996,\n",
       "       97.95705996, 48.92489725, 30.91308237, 55.92949192, 69.93868127,\n",
       "       90.95246528, 24.90914408, 53.92817916, 38.91833343, 90.95246528,\n",
       "        2.89470368, 21.90717494,  1.8940473 ,  1.8940473 , 64.93539936,\n",
       "       70.93933765, 41.92030257, 75.94261956, 42.92095896,  7.89798559,\n",
       "       85.94918338, 86.94983976,  2.89470368, 57.93080468, 61.93343021,\n",
       "       88.95115252, 94.95509081, 27.91111323, -0.10726546,  0.89339092,\n",
       "       48.92489725, 20.90651855, 45.9229281 , 10.89995474, 88.95115252,\n",
       "       36.91702066, 28.91176961, 43.92161534, 95.95574719, 15.90323665,\n",
       "       73.94130679, 34.9157079 , 41.92030257, 15.90323665, 55.92949192,\n",
       "       17.90454941, 99.95837272, 53.92817916, 91.95312167, 62.93408659,\n",
       "       80.94590147, 72.94065041, 47.92424086,  0.89339092, 84.94852699,\n",
       "       13.90192388, 24.90914408, 44.92227172, 97.95705996, 96.95640358,\n",
       "       57.93080468, 92.95377805, 87.95049614, 88.95115252, 46.92358448,\n",
       "        5.89667283, 33.91505152, 29.91242599, 15.90323665, 85.94918338,\n",
       "       39.91898981, 51.92686639, 14.90258026,  3.89536006, 94.95509081,\n",
       "       98.95771634, 34.9157079 , 57.93080468,  9.89929835, 15.90323665,\n",
       "       52.92752277, 57.93080468, 41.92030257, 23.9084877 , 83.94787061,\n",
       "       63.93474297, 11.90061112, 60.93277383, 74.94196317, 14.90258026,\n",
       "       99.95837272, 42.92095896, 12.9012675 , 47.92424086, 44.92227172,\n",
       "       51.92686639, 33.91505152, 29.91242599, 64.93539936, 99.95837272,\n",
       "       66.93671212, 98.95771634, 44.92227172, 86.94983976, 72.94065041,\n",
       "        8.89864197, 80.94590147, 71.93999403, 80.94590147, 57.93080468,\n",
       "       92.95377805, 81.94655785, 65.93605574, 96.95640358])"
      ]
     },
     "execution_count": 13,
     "metadata": {},
     "output_type": "execute_result"
    }
   ],
   "source": [
    "y_pred = model.predict(x_test)\n",
    "y_pred"
   ]
  },
  {
   "cell_type": "code",
   "execution_count": 14,
   "id": "3ea2cc69",
   "metadata": {},
   "outputs": [
    {
     "data": {
      "image/png": "[encoded data removed]",
      "text/plain": [
       "<Figure size 640x480 with 1 Axes>"
      ]
     },
     "metadata": {},
     "output_type": "display_data"
    }
   ],
   "source": [
    "plt.scatter(x_test, y_test, color = 'blue', label = 'Output')\n",
    "plt.plot(x_test, y_pred, color='red', linewidth=2, label='Predicted')\n",
    "plt.xlabel('x')\n",
    "plt.ylabel('y')\n",
    "plt.title('Linear Regression')\n",
    "plt.legend()\n",
    "plt.show()"
   ]
  },
  {
   "cell_type": "code",
   "execution_count": 15,
   "id": "245e61cb",
   "metadata": {},
   "outputs": [
    {
     "name": "stdout",
     "output_type": "stream",
     "text": [
      "R-squared (R2) Score:  0.9907015319025518\n"
     ]
    }
   ],
   "source": [
    "r2 = r2_score(y_test, y_pred)\n",
    "print(\"R-squared (R2) Score: \", r2)\n"
   ]
  },
  {
   "cell_type": "code",
   "execution_count": null,
   "id": "b2354c13",
   "metadata": {},
   "outputs": [],
   "source": []
  }
 ],
 "metadata": {
  "kernelspec": {
   "display_name": "Python 3 (ipykernel)",
   "language": "python",
   "name": "python3"
  },
  "language_info": {
   "codemirror_mode": {
    "name": "ipython",
    "version": 3
   },
   "file_extension": ".py",
   "mimetype": "text/x-python",
   "name": "python",
   "nbconvert_exporter": "python",
   "pygments_lexer": "ipython3",
   "version": "3.10.6"
  }
 },
 "nbformat": 4,
 "nbformat_minor": 5
}
